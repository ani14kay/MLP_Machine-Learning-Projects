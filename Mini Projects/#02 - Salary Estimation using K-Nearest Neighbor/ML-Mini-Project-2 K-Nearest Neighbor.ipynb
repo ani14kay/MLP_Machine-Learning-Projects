{
 "cells": [
  {
   "cell_type": "markdown",
   "id": "1ce46acb",
   "metadata": {},
   "source": [
    "# #ML-Mini-2 : Salary Estimation using K-Nearest Neighbor"
   ]
  },
  {
   "cell_type": "markdown",
   "id": "0eb0f2ce",
   "metadata": {},
   "source": [
    "------------------------------------------------------------------------------------------------------------------------\n",
    "This is to Make Predictions regarding Salary from Existing Customers by making use of K-Nearest Neighbor Classification.\n",
    "\n",
    "The Dataset used in this Model tells about whether a person of certain age, having certain encome and capital gain who works for a specified hours per week has income greater than 50K or not. \n",
    "\n",
    "And hence, we can use it to predict whether a targeted audience will have salary less than-equal to or greater than 50K.\n",
    "\n",
    "------------------------------------------------------------------------------------------------------------------------"
   ]
  },
  {
   "cell_type": "markdown",
   "id": "080973ba",
   "metadata": {},
   "source": [
    "### 1 - Importing Libraries"
   ]
  },
  {
   "cell_type": "code",
   "execution_count": 1,
   "id": "08fe4945",
   "metadata": {},
   "outputs": [],
   "source": [
    "import pandas as pd\n",
    "import numpy as np"
   ]
  },
  {
   "cell_type": "markdown",
   "id": "4ae4ba19",
   "metadata": {},
   "source": [
    "### 2 - Uploading the Dataset"
   ]
  },
  {
   "cell_type": "code",
   "execution_count": 2,
   "id": "eaa55931",
   "metadata": {},
   "outputs": [
    {
     "data": {
      "text/html": [
       "<div>\n",
       "<style scoped>\n",
       "    .dataframe tbody tr th:only-of-type {\n",
       "        vertical-align: middle;\n",
       "    }\n",
       "\n",
       "    .dataframe tbody tr th {\n",
       "        vertical-align: top;\n",
       "    }\n",
       "\n",
       "    .dataframe thead th {\n",
       "        text-align: right;\n",
       "    }\n",
       "</style>\n",
       "<table border=\"1\" class=\"dataframe\">\n",
       "  <thead>\n",
       "    <tr style=\"text-align: right;\">\n",
       "      <th></th>\n",
       "      <th>age</th>\n",
       "      <th>education.num</th>\n",
       "      <th>capital.gain</th>\n",
       "      <th>hours.per.week</th>\n",
       "      <th>income</th>\n",
       "    </tr>\n",
       "  </thead>\n",
       "  <tbody>\n",
       "    <tr>\n",
       "      <th>0</th>\n",
       "      <td>90</td>\n",
       "      <td>9</td>\n",
       "      <td>0</td>\n",
       "      <td>40</td>\n",
       "      <td>&lt;=50K</td>\n",
       "    </tr>\n",
       "    <tr>\n",
       "      <th>1</th>\n",
       "      <td>82</td>\n",
       "      <td>9</td>\n",
       "      <td>0</td>\n",
       "      <td>18</td>\n",
       "      <td>&lt;=50K</td>\n",
       "    </tr>\n",
       "    <tr>\n",
       "      <th>2</th>\n",
       "      <td>66</td>\n",
       "      <td>10</td>\n",
       "      <td>0</td>\n",
       "      <td>40</td>\n",
       "      <td>&lt;=50K</td>\n",
       "    </tr>\n",
       "    <tr>\n",
       "      <th>3</th>\n",
       "      <td>54</td>\n",
       "      <td>4</td>\n",
       "      <td>0</td>\n",
       "      <td>40</td>\n",
       "      <td>&lt;=50K</td>\n",
       "    </tr>\n",
       "    <tr>\n",
       "      <th>4</th>\n",
       "      <td>41</td>\n",
       "      <td>10</td>\n",
       "      <td>0</td>\n",
       "      <td>40</td>\n",
       "      <td>&lt;=50K</td>\n",
       "    </tr>\n",
       "    <tr>\n",
       "      <th>...</th>\n",
       "      <td>...</td>\n",
       "      <td>...</td>\n",
       "      <td>...</td>\n",
       "      <td>...</td>\n",
       "      <td>...</td>\n",
       "    </tr>\n",
       "    <tr>\n",
       "      <th>32556</th>\n",
       "      <td>22</td>\n",
       "      <td>10</td>\n",
       "      <td>0</td>\n",
       "      <td>40</td>\n",
       "      <td>&lt;=50K</td>\n",
       "    </tr>\n",
       "    <tr>\n",
       "      <th>32557</th>\n",
       "      <td>27</td>\n",
       "      <td>12</td>\n",
       "      <td>0</td>\n",
       "      <td>38</td>\n",
       "      <td>&lt;=50K</td>\n",
       "    </tr>\n",
       "    <tr>\n",
       "      <th>32558</th>\n",
       "      <td>40</td>\n",
       "      <td>9</td>\n",
       "      <td>0</td>\n",
       "      <td>40</td>\n",
       "      <td>&gt;50K</td>\n",
       "    </tr>\n",
       "    <tr>\n",
       "      <th>32559</th>\n",
       "      <td>58</td>\n",
       "      <td>9</td>\n",
       "      <td>0</td>\n",
       "      <td>40</td>\n",
       "      <td>&lt;=50K</td>\n",
       "    </tr>\n",
       "    <tr>\n",
       "      <th>32560</th>\n",
       "      <td>22</td>\n",
       "      <td>9</td>\n",
       "      <td>0</td>\n",
       "      <td>20</td>\n",
       "      <td>&lt;=50K</td>\n",
       "    </tr>\n",
       "  </tbody>\n",
       "</table>\n",
       "<p>32561 rows × 5 columns</p>\n",
       "</div>"
      ],
      "text/plain": [
       "       age  education.num  capital.gain  hours.per.week income\n",
       "0       90              9             0              40  <=50K\n",
       "1       82              9             0              18  <=50K\n",
       "2       66             10             0              40  <=50K\n",
       "3       54              4             0              40  <=50K\n",
       "4       41             10             0              40  <=50K\n",
       "...    ...            ...           ...             ...    ...\n",
       "32556   22             10             0              40  <=50K\n",
       "32557   27             12             0              38  <=50K\n",
       "32558   40              9             0              40   >50K\n",
       "32559   58              9             0              40  <=50K\n",
       "32560   22              9             0              20  <=50K\n",
       "\n",
       "[32561 rows x 5 columns]"
      ]
     },
     "execution_count": 2,
     "metadata": {},
     "output_type": "execute_result"
    }
   ],
   "source": [
    "dts = pd.read_csv(\"Salary.csv\")\n",
    "dts"
   ]
  },
  {
   "cell_type": "markdown",
   "id": "166118f1",
   "metadata": {},
   "source": [
    "### 3 - Summarizing the Dataset"
   ]
  },
  {
   "cell_type": "code",
   "execution_count": 3,
   "id": "8e0efcce",
   "metadata": {},
   "outputs": [
    {
     "data": {
      "text/plain": [
       "(32561, 5)"
      ]
     },
     "execution_count": 3,
     "metadata": {},
     "output_type": "execute_result"
    }
   ],
   "source": [
    "dts.shape"
   ]
  },
  {
   "cell_type": "code",
   "execution_count": 4,
   "id": "28348870",
   "metadata": {},
   "outputs": [
    {
     "data": {
      "text/plain": [
       "Index(['age', 'education.num', 'capital.gain', 'hours.per.week', 'income'], dtype='object')"
      ]
     },
     "execution_count": 4,
     "metadata": {},
     "output_type": "execute_result"
    }
   ],
   "source": [
    "dts.columns"
   ]
  },
  {
   "cell_type": "code",
   "execution_count": 5,
   "id": "77523988",
   "metadata": {},
   "outputs": [
    {
     "data": {
      "text/html": [
       "<div>\n",
       "<style scoped>\n",
       "    .dataframe tbody tr th:only-of-type {\n",
       "        vertical-align: middle;\n",
       "    }\n",
       "\n",
       "    .dataframe tbody tr th {\n",
       "        vertical-align: top;\n",
       "    }\n",
       "\n",
       "    .dataframe thead th {\n",
       "        text-align: right;\n",
       "    }\n",
       "</style>\n",
       "<table border=\"1\" class=\"dataframe\">\n",
       "  <thead>\n",
       "    <tr style=\"text-align: right;\">\n",
       "      <th></th>\n",
       "      <th>age</th>\n",
       "      <th>education.num</th>\n",
       "      <th>capital.gain</th>\n",
       "      <th>hours.per.week</th>\n",
       "      <th>income</th>\n",
       "    </tr>\n",
       "  </thead>\n",
       "  <tbody>\n",
       "    <tr>\n",
       "      <th>0</th>\n",
       "      <td>90</td>\n",
       "      <td>9</td>\n",
       "      <td>0</td>\n",
       "      <td>40</td>\n",
       "      <td>&lt;=50K</td>\n",
       "    </tr>\n",
       "    <tr>\n",
       "      <th>1</th>\n",
       "      <td>82</td>\n",
       "      <td>9</td>\n",
       "      <td>0</td>\n",
       "      <td>18</td>\n",
       "      <td>&lt;=50K</td>\n",
       "    </tr>\n",
       "    <tr>\n",
       "      <th>2</th>\n",
       "      <td>66</td>\n",
       "      <td>10</td>\n",
       "      <td>0</td>\n",
       "      <td>40</td>\n",
       "      <td>&lt;=50K</td>\n",
       "    </tr>\n",
       "    <tr>\n",
       "      <th>3</th>\n",
       "      <td>54</td>\n",
       "      <td>4</td>\n",
       "      <td>0</td>\n",
       "      <td>40</td>\n",
       "      <td>&lt;=50K</td>\n",
       "    </tr>\n",
       "    <tr>\n",
       "      <th>4</th>\n",
       "      <td>41</td>\n",
       "      <td>10</td>\n",
       "      <td>0</td>\n",
       "      <td>40</td>\n",
       "      <td>&lt;=50K</td>\n",
       "    </tr>\n",
       "  </tbody>\n",
       "</table>\n",
       "</div>"
      ],
      "text/plain": [
       "   age  education.num  capital.gain  hours.per.week income\n",
       "0   90              9             0              40  <=50K\n",
       "1   82              9             0              18  <=50K\n",
       "2   66             10             0              40  <=50K\n",
       "3   54              4             0              40  <=50K\n",
       "4   41             10             0              40  <=50K"
      ]
     },
     "execution_count": 5,
     "metadata": {},
     "output_type": "execute_result"
    }
   ],
   "source": [
    "dts.head()"
   ]
  },
  {
   "cell_type": "markdown",
   "id": "419f976d",
   "metadata": {},
   "source": [
    "### 4 - Mapping Salary Data to Binary Value"
   ]
  },
  {
   "cell_type": "code",
   "execution_count": 6,
   "id": "767560d3",
   "metadata": {},
   "outputs": [
    {
     "name": "stdout",
     "output_type": "stream",
     "text": [
      "    age  education.num  capital.gain  hours.per.week  income\n",
      "0    90              9             0              40       0\n",
      "1    82              9             0              18       0\n",
      "2    66             10             0              40       0\n",
      "3    54              4             0              40       0\n",
      "4    41             10             0              40       0\n",
      "5    34              9             0              45       0\n",
      "6    38              6             0              40       0\n",
      "7    74             16             0              20       1\n",
      "8    68              9             0              40       0\n",
      "9    41             10             0              60       1\n",
      "10   45             16             0              35       1\n",
      "11   38             15             0              45       1\n",
      "12   52             13             0              20       1\n",
      "13   32             14             0              55       1\n",
      "14   51             16             0              40       1\n"
     ]
    }
   ],
   "source": [
    "income_set = set(dts['income'])\n",
    "dts['income'] = dts['income'].map({'<=50K':0, '>50K':1}).astype(int)\n",
    "print(dts.head(15))"
   ]
  },
  {
   "cell_type": "markdown",
   "id": "00ffba9e",
   "metadata": {},
   "source": [
    "### 5  - Segregating Dataset into X [ Input / Independant Variable ] & Y [ Output / Dependant Variable ]"
   ]
  },
  {
   "cell_type": "code",
   "execution_count": 7,
   "id": "7f67ec73",
   "metadata": {},
   "outputs": [
    {
     "data": {
      "text/plain": [
       "array([[90,  9,  0, 40],\n",
       "       [82,  9,  0, 18],\n",
       "       [66, 10,  0, 40],\n",
       "       ...,\n",
       "       [40,  9,  0, 40],\n",
       "       [58,  9,  0, 40],\n",
       "       [22,  9,  0, 20]], dtype=int64)"
      ]
     },
     "execution_count": 7,
     "metadata": {},
     "output_type": "execute_result"
    }
   ],
   "source": [
    "X = dts.iloc[:, :-1].values\n",
    "X"
   ]
  },
  {
   "cell_type": "code",
   "execution_count": 8,
   "id": "cb92bd02",
   "metadata": {},
   "outputs": [
    {
     "data": {
      "text/plain": [
       "array([0, 0, 0, ..., 1, 0, 0])"
      ]
     },
     "execution_count": 8,
     "metadata": {},
     "output_type": "execute_result"
    }
   ],
   "source": [
    "Y = dts.iloc[:, -1].values\n",
    "Y"
   ]
  },
  {
   "cell_type": "markdown",
   "id": "12ab7d28",
   "metadata": {},
   "source": [
    "### 6 - Splitting Dataset to Test & Train"
   ]
  },
  {
   "cell_type": "code",
   "execution_count": 9,
   "id": "fa76654a",
   "metadata": {},
   "outputs": [],
   "source": [
    "from sklearn.model_selection import train_test_split\n",
    "\n",
    "X_train, X_test, Y_train, Y_test = train_test_split(\n",
    "    X, Y, test_size=0.25, random_state=0\n",
    ")"
   ]
  },
  {
   "cell_type": "markdown",
   "id": "1659c2c8",
   "metadata": {},
   "source": [
    "### 7 - Feature Scaling"
   ]
  },
  {
   "cell_type": "code",
   "execution_count": 10,
   "id": "3d67f79a",
   "metadata": {},
   "outputs": [
    {
     "data": {
      "text/plain": [
       "array([[ 1.20264866, -2.76154633, -0.14509813, -0.03923011],\n",
       "       [ 0.25021666, -0.42608063, -0.14509813, -0.03923011],\n",
       "       [ 0.25021666, -0.42608063, -0.14509813, -0.03923011],\n",
       "       ...,\n",
       "       [-0.92200734, -0.81532491, -0.14509813,  0.85306386],\n",
       "       [ 0.39674466,  1.52014079, -0.14509813, -0.03923011],\n",
       "       [ 0.03042466, -0.42608063,  0.83219401, -0.03923011]])"
      ]
     },
     "execution_count": 10,
     "metadata": {},
     "output_type": "execute_result"
    }
   ],
   "source": [
    "from sklearn.preprocessing import StandardScaler\n",
    "\n",
    "sc = StandardScaler()\n",
    "X_train = sc.fit_transform(X_train)\n",
    "X_test = sc.transform(X_test)\n",
    "X_train"
   ]
  },
  {
   "cell_type": "markdown",
   "id": "dcc339dc",
   "metadata": {},
   "source": [
    "### 8 - Finding the Best K-Value"
   ]
  },
  {
   "cell_type": "code",
   "execution_count": 11,
   "id": "78ed4859",
   "metadata": {},
   "outputs": [
    {
     "data": {
      "text/plain": [
       "Text(0, 0.5, 'Mean Error')"
      ]
     },
     "execution_count": 11,
     "metadata": {},
     "output_type": "execute_result"
    },
    {
     "data": {
      "image/png": "[encoded data removed]",
      "text/plain": [
       "<Figure size 864x432 with 1 Axes>"
      ]
     },
     "metadata": {
      "needs_background": "light"
     },
     "output_type": "display_data"
    }
   ],
   "source": [
    "error=[]\n",
    "from sklearn.neighbors import KNeighborsClassifier\n",
    "import matplotlib.pyplot as plt\n",
    "\n",
    "# Calculating error for K Values between 1 and 50\n",
    "for i in range(1,50):\n",
    "    model = KNeighborsClassifier(n_neighbors=i)\n",
    "    model.fit(X_train, Y_train)\n",
    "    pred_i = model.predict(X_test)\n",
    "    error.append(np.mean(pred_i != Y_test))\n",
    "    \n",
    "plt.figure(figsize=(12,6))\n",
    "plt.plot(range(1,50),error,color='red',linestyle='dashed',marker='o',markerfacecolor='blue',markersize=5)\n",
    "plt.title(\"Error Rate K Value\")\n",
    "plt.xlabel(\"K Value\")\n",
    "plt.ylabel(\"Mean Error\")"
   ]
  },
  {
   "cell_type": "markdown",
   "id": "2a689f35",
   "metadata": {},
   "source": [
    "### 9 - Training our Model"
   ]
  },
  {
   "cell_type": "code",
   "execution_count": 12,
   "id": "0680b9d1",
   "metadata": {},
   "outputs": [
    {
     "data": {
      "text/plain": [
       "KNeighborsClassifier(n_neighbors=6)"
      ]
     },
     "execution_count": 12,
     "metadata": {},
     "output_type": "execute_result"
    }
   ],
   "source": [
    "from sklearn.neighbors import KNeighborsClassifier\n",
    "model = KNeighborsClassifier(n_neighbors = 6, metric=\"minkowski\", p=2)\n",
    "model.fit(X_train, Y_train)"
   ]
  },
  {
   "cell_type": "markdown",
   "id": "0fe7e0f0",
   "metadata": {},
   "source": [
    "### 10 - Plotting the Correlation Matrix to Explore Dependancy between Features"
   ]
  },
  {
   "cell_type": "code",
   "execution_count": 13,
   "id": "f43225ec",
   "metadata": {},
   "outputs": [
    {
     "data": {
      "image/png": "[encoded data removed]",
      "text/plain": [
       "<Figure size 1080x1440 with 2 Axes>"
      ]
     },
     "metadata": {
      "needs_background": "light"
     },
     "output_type": "display_data"
    }
   ],
   "source": [
    "import seaborn as sns\n",
    "from pylab import rcParams\n",
    "\n",
    "def plot_correlation(data):\n",
    "    # init figure size\n",
    "    rcParams['figure.figsize'] = 15, 20\n",
    "    fig = plt.figure()\n",
    "    sns.heatmap(data.corr(), annot=True, fmt=\".2f\")\n",
    "    plt.show()\n",
    "    fig.savefig('corr.png')\n",
    "\n",
    "plot_correlation(dts)"
   ]
  },
  {
   "cell_type": "markdown",
   "id": "4e9ac2c7",
   "metadata": {},
   "source": [
    "### 11 - Predicting whether the New Customer with Age, Education, Capital Gain & Hour's Per Week will get Salary Above 50K or Not"
   ]
  },
  {
   "cell_type": "code",
   "execution_count": 14,
   "id": "1c0c218b",
   "metadata": {},
   "outputs": [
    {
     "name": "stdout",
     "output_type": "stream",
     "text": [
      "Enter New Employee's Age: 50\n",
      "Enter New Employee's Education: 4\n",
      "Enter New Employee's Capital Gain: 2\n",
      "Enter New Employee's Hour Per Week: 4\n",
      "[0]\n",
      "Customer might not get Salary above 50K\n"
     ]
    }
   ],
   "source": [
    "age = int(input(\"Enter New Employee's Age: \"))\n",
    "edu = int(input(\"Enter New Employee's Education: \"))\n",
    "cg = int(input(\"Enter New Employee's Capital Gain: \"))\n",
    "wh = int(input(\"Enter New Employee's Hour Per Week: \"))\n",
    "newEmp = [[age,edu,cg,wh]]\n",
    "result = model.predict(sc.transform(newEmp))\n",
    "print(result)\n",
    "\n",
    "if result == 1:\n",
    "    print(\"Employee might get Salary above 50K\")\n",
    "else:\n",
    "    print(\"Customer might not get Salary above 50K\")"
   ]
  },
  {
   "cell_type": "markdown",
   "id": "f9a0b698",
   "metadata": {},
   "source": [
    "### 12 - Prediction Results for all Test Data"
   ]
  },
  {
   "cell_type": "code",
   "execution_count": 15,
   "id": "f4302cbf",
   "metadata": {},
   "outputs": [
    {
     "name": "stdout",
     "output_type": "stream",
     "text": [
      "[[0 0]\n",
      " [0 0]\n",
      " [0 0]\n",
      " ...\n",
      " [0 0]\n",
      " [0 0]\n",
      " [0 0]]\n"
     ]
    }
   ],
   "source": [
    "Y_pred = model.predict(X_test)\n",
    "print(np.concatenate((Y_pred.reshape(len(Y_pred),1),Y_test.reshape(len(Y_test),1)),1))"
   ]
  },
  {
   "cell_type": "markdown",
   "id": "ac51a8fa",
   "metadata": {},
   "source": [
    "### 13 - Evaluating Model - CONFUSION MUTRIX"
   ]
  },
  {
   "cell_type": "code",
   "execution_count": 16,
   "id": "7bee1f57",
   "metadata": {},
   "outputs": [
    {
     "name": "stdout",
     "output_type": "stream",
     "text": [
      "Confusion Matrix : \n",
      "[[5890  303]\n",
      " [1222  726]]\n",
      "\n",
      "Accuracy of the Model : 81.26765753592925%\n"
     ]
    }
   ],
   "source": [
    "from sklearn.metrics import confusion_matrix, accuracy_score as acc, precision_score as pcs, recall_score as rcs\n",
    "cm = confusion_matrix(Y_test,Y_pred)\n",
    "\n",
    "print(\"Confusion Matrix : \")\n",
    "print(cm)\n",
    "\n",
    "print(\"\\nAccuracy of the Model : {0}%\".format(acc(Y_test,Y_pred)*100))"
   ]
  },
  {
   "cell_type": "code",
   "execution_count": 17,
   "id": "e12d1b9c",
   "metadata": {},
   "outputs": [
    {
     "name": "stdout",
     "output_type": "stream",
     "text": [
      "Recall of the Model :  0.3726899383983573\n",
      "\n",
      "Precision of the Model :  0.7055393586005831\n"
     ]
    }
   ],
   "source": [
    "print(\"Recall of the Model : \",rcs(Y_test,Y_pred))\n",
    "print(\"\\nPrecision of the Model : \",pcs(Y_test,Y_pred))"
   ]
  },
  {
   "cell_type": "markdown",
   "id": "14a9d60e",
   "metadata": {},
   "source": [
    " -------------------------------------------------------------------------------------------------------------------------------"
   ]
  }
 ],
 "metadata": {
  "kernelspec": {
   "display_name": "Python 3 (ipykernel)",
   "language": "python",
   "name": "python3"
  },
  "language_info": {
   "codemirror_mode": {
    "name": "ipython",
    "version": 3
   },
   "file_extension": ".py",
   "mimetype": "text/x-python",
   "name": "python",
   "nbconvert_exporter": "python",
   "pygments_lexer": "ipython3",
   "version": "3.9.12"
  }
 },
 "nbformat": 4,
 "nbformat_minor": 5
}
