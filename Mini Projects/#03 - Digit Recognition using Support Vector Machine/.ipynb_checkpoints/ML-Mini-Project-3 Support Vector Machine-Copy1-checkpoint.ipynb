{
 "cells": [
  {
   "cell_type": "markdown",
   "id": "f8607af8",
   "metadata": {},
   "source": [
    " # #ML-Mini-3 : Character Recognition using Support Vector Machine"
   ]
  },
  {
   "cell_type": "markdown",
   "id": "6e95d3eb",
   "metadata": {},
   "source": [
    "### 1 - Importing Libraries"
   ]
  },
  {
   "cell_type": "markdown",
   "id": "33908089",
   "metadata": {},
   "source": [
    "### 2 - Uploading the Dataset"
   ]
  },
  {
   "cell_type": "markdown",
   "id": "baa6ea41",
   "metadata": {},
   "source": [
    "### 3 - Summarizing the Dataset"
   ]
  },
  {
   "cell_type": "markdown",
   "id": "7025533a",
   "metadata": {},
   "source": [
    "### 4 - Mapping Salary Data to Binary Value"
   ]
  },
  {
   "cell_type": "markdown",
   "id": "d38765a7",
   "metadata": {},
   "source": [
    "### 5  - Segregating Dataset into X [ Input / Independant Variable ] & Y [ Output / Dependant Variable ]"
   ]
  },
  {
   "cell_type": "markdown",
   "id": "e495bab4",
   "metadata": {},
   "source": [
    "### 6 - Splitting Dataset to Test & Train"
   ]
  },
  {
   "cell_type": "markdown",
   "id": "6453776b",
   "metadata": {},
   "source": [
    "### 7 - Feature Scaling"
   ]
  },
  {
   "cell_type": "markdown",
   "id": "8e066f12",
   "metadata": {},
   "source": [
    "### 8 - Finding the Best K-Value"
   ]
  },
  {
   "cell_type": "markdown",
   "id": "870178b2",
   "metadata": {},
   "source": [
    "### 9 - Training our Model"
   ]
  },
  {
   "cell_type": "markdown",
   "id": "3da50ffc",
   "metadata": {},
   "source": [
    "### 10 - Plotting the Correlation Matrix to Explore Dependancy between Features"
   ]
  },
  {
   "cell_type": "markdown",
   "id": "ec8e2934",
   "metadata": {},
   "source": [
    "### 11 - Predicting whether the New Customer with Age, Education, Capital Gain & Hour's Per Week will get Salary Above 50K or Not"
   ]
  },
  {
   "cell_type": "markdown",
   "id": "c9c8b759",
   "metadata": {},
   "source": [
    "### 12 - Prediction Results for all Test Data"
   ]
  },
  {
   "cell_type": "markdown",
   "id": "e6abb37f",
   "metadata": {},
   "source": [
    "### 13 - Evaluating Model - CONFUSION MUTRIX"
   ]
  },
  {
   "cell_type": "code",
   "execution_count": null,
   "id": "d84239f5",
   "metadata": {},
   "outputs": [],
   "source": []
  }
 ],
 "metadata": {
  "kernelspec": {
   "display_name": "Python 3 (ipykernel)",
   "language": "python",
   "name": "python3"
  },
  "language_info": {
   "codemirror_mode": {
    "name": "ipython",
    "version": 3
   },
   "file_extension": ".py",
   "mimetype": "text/x-python",
   "name": "python",
   "nbconvert_exporter": "python",
   "pygments_lexer": "ipython3",
   "version": "3.9.12"
  }
 },
 "nbformat": 4,
 "nbformat_minor": 5
}
